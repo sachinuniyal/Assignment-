import matplotlib.pyplot as plt
import numpy as np




#line plot
x = [1, 2, 3, 4, 5]
y = [10, 15, 25, 30, 50]

plt.plot(x, y, marker='o')
plt.title("Simple Line Plot")
plt.xlabel("X-axis")
plt.ylabel("Y-axis")
plt.grid(True)
plt.show()





#bar graph
students = ['John', 'Jane', 'Alice', 'Bob']
marks = [75, 85, 60, 90]

plt.bar(students, marks, color=['blue', 'green', 'red', 'orange'])
plt.title("Marks of Students")
plt.xlabel("Students")
plt.ylabel("Marks")
plt.show()






#pie chart
regions = ['North America', 'Europe', 'Asia', 'Others']
revenue = [45, 25, 20, 10]

explode = [0.1 if r == max(revenue) else 0 for r in revenue]  # Highlight highest

plt.pie(revenue, labels=regions, autopct='%1.1f%%', startangle=90, explode=explode)
plt.title("Company Revenue Distribution")
plt.show()






#histogram
data = np.random.randint(1, 101, 1000)

plt.hist(data, bins=10, edgecolor='black')
plt.title("Histogram of Random Integers")
plt.xlabel("Value Range")
plt.ylabel("Frequency")
plt.show()
