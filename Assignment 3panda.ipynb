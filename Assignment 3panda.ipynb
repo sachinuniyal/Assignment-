import pandas as pd





#create data frame
data = {
    'Name': ['Alice', 'Bob', 'Charlie', 'Diana', 'Eve'],
    'Age': [24, 27, 22, 32, 29],
    'Department': ['HR', 'Finance', 'IT', 'Marketing', 'HR'],
    'Salary': [45000, 54000, 50000, 62000, 47000]
}

df = pd.DataFrame(data)
print(df.head())  # First 5 rows

print("\nSummary Statistics:\n", df[['Age', 'Salary']].describe())

avg_hr_salary = df[df['Department'] == 'HR']['Salary'].mean()
print("\nAverage HR Salary:", avg_hr_salary)





#add a new column with 10% bonus salary
df['Bonus'] = df['Salary'] * 0.10
print(df)





#filter employee ages 25-30
filtered = df[(df['Age'] >= 25) & (df['Age'] <= 30)]
print(filtered)






#sort by salary and save to csv
sorted_df = df.sort_values(by='Salary', ascending=True)
print(sorted_df)

sorted_df.to_csv("sorted_employees.csv", index=False)
 


#group by department and average salary
dept_avg = df.groupby('Department')['Salary'].mean()
print(dept_avg)



